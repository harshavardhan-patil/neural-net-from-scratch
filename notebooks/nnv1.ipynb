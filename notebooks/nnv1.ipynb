{
 "cells": [
  {
   "cell_type": "code",
   "execution_count": 28,
   "metadata": {},
   "outputs": [
    {
     "name": "stdout",
     "output_type": "stream",
     "text": [
      "['C:\\\\Program Files\\\\Python310\\\\python310.zip', 'C:\\\\Program Files\\\\Python310\\\\DLLs', 'C:\\\\Program Files\\\\Python310\\\\lib', 'C:\\\\Program Files\\\\Python310', 'g:\\\\Work\\\\DS\\\\neural-net-from-scratch\\\\.venv', '', 'g:\\\\Work\\\\DS\\\\neural-net-from-scratch\\\\.venv\\\\lib\\\\site-packages', 'g:\\\\Work\\\\DS\\\\neural-net-from-scratch\\\\.venv\\\\lib\\\\site-packages\\\\win32', 'g:\\\\Work\\\\DS\\\\neural-net-from-scratch\\\\.venv\\\\lib\\\\site-packages\\\\win32\\\\lib', 'g:\\\\Work\\\\DS\\\\neural-net-from-scratch\\\\.venv\\\\lib\\\\site-packages\\\\Pythonwin', 'G:\\\\Work\\\\DS\\\\neural-net-from-scratch', 'G:\\\\Work\\\\DS\\\\neural-net-from-scratch']\n"
     ]
    }
   ],
   "source": [
    "import sys\n",
    "from pathlib import Path\n",
    "\n",
    "# Add the project root to sys.path\n",
    "project_root = Path().resolve().parent  # Adjust as needed to point to the root folder\n",
    "sys.path.append(str(project_root))\n",
    "\n",
    "print(sys.path)  # Check if the path is added\n"
   ]
  },
  {
   "cell_type": "markdown",
   "metadata": {},
   "source": [
    "### Import MNIST dataset"
   ]
  },
  {
   "cell_type": "markdown",
   "metadata": {},
   "source": [
    "https://www.kaggle.com/competitions/digit-recognizer/data"
   ]
  },
  {
   "cell_type": "code",
   "execution_count": 29,
   "metadata": {},
   "outputs": [
    {
     "name": "stdout",
     "output_type": "stream",
     "text": [
      "42000\n",
      "785\n"
     ]
    }
   ],
   "source": [
    "#\n",
    "# Verify Reading Dataset via MnistDataloader class\n",
    "#\n",
    "%matplotlib inline\n",
    "import random\n",
    "import matplotlib.pyplot as plt\n",
    "from os.path  import join\n",
    "import numpy as np\n",
    "import pandas as pd\n",
    "from sklearn.model_selection import train_test_split\n",
    "\n",
    "#\n",
    "# Set file paths based on added MNIST Datasets\n",
    "#\n",
    "input_path = '../data'\n",
    "data = np.array(pd.read_csv(join(input_path, 'train.csv')))\n",
    "m, n = data.shape\n",
    "print(m)\n",
    "print(n)\n",
    "\n",
    "train_set, dev_set = train_test_split(data, test_size=0.2, random_state=42)\n",
    "X_train = train_set[:100, 1:n]\n",
    "y_train = train_set[:100, 0:1]\n",
    "X_dev = dev_set[:20, 1:n]\n",
    "y_dev = dev_set[:20, 0:1]\n",
    "\n",
    "#\n",
    "# Helper function to show a list of images with their relating titles\n",
    "#\n",
    "def show_images(images, title_texts):\n",
    "    cols = 5\n",
    "    rows = int(len(images)/cols) + 1\n",
    "    plt.figure(figsize=(30,20))\n",
    "    index = 1    \n",
    "    for x in zip(images, title_texts):        \n",
    "        image = x[0]        \n",
    "        title_text = x[1]\n",
    "        plt.subplot(rows, cols, index)        \n",
    "        plt.imshow(image, cmap=plt.cm.gray)\n",
    "        if (title_text != ''):\n",
    "            plt.title(title_text, fontsize = 15);        \n",
    "        index += 1\n",
    "\n"
   ]
  },
  {
   "cell_type": "code",
   "execution_count": 30,
   "metadata": {},
   "outputs": [
    {
     "data": {
      "image/png": "[encoded data removed]",
      "text/plain": [
       "<Figure size 3000x2000 with 1 Axes>"
      ]
     },
     "metadata": {},
     "output_type": "display_data"
    }
   ],
   "source": [
    "show_images([X_train[0].reshape(28, 28)], [y_train[0]])"
   ]
  },
  {
   "cell_type": "code",
   "execution_count": 31,
   "metadata": {},
   "outputs": [
    {
     "data": {
      "text/plain": [
       "(100, 784)"
      ]
     },
     "execution_count": 31,
     "metadata": {},
     "output_type": "execute_result"
    }
   ],
   "source": [
    "X_train.shape"
   ]
  },
  {
   "cell_type": "markdown",
   "metadata": {},
   "source": [
    "#### One-Hot Encode Digit Values"
   ]
  },
  {
   "cell_type": "code",
   "execution_count": 44,
   "metadata": {},
   "outputs": [
    {
     "data": {
      "text/plain": [
       "(10, 100)"
      ]
     },
     "execution_count": 44,
     "metadata": {},
     "output_type": "execute_result"
    }
   ],
   "source": [
    "from sklearn.preprocessing import OneHotEncoder\n",
    "\n",
    "digit_encoder = OneHotEncoder()\n",
    "y_train_hot = digit_encoder.fit_transform(y_train).toarray().T\n",
    "y_train_hot.shape"
   ]
  },
  {
   "cell_type": "markdown",
   "metadata": {},
   "source": [
    "### Description of Data\n",
    "Handwritten digits in the form of 28 x 28 dimension array with values ranging from 0 (black) to 255 (white) <br> <br>\n",
    "\n",
    "$$dim \\space x_i = 28 * 28 \\newline$$\n",
    "\n",
    "Total Training Samples = 60000"
   ]
  },
  {
   "cell_type": "markdown",
   "metadata": {},
   "source": [
    "### Input Layer\n",
    "\n",
    "Dim: 784 x samples, each column is a sample\n",
    "\n",
    "$$ A^{(0)} = \\begin{bmatrix} x_{0, 0} & x_{0, 1} & \\cdots & x_{0, n_{samples}} \\\\ x_{1, 0} & x_{1, 1} & \\cdots & x_{1, n_{samples}} \\\\ \\vdots & \\vdots & \\ddots & \\vdots \\\\ x_{783, 0} & x_{783, 1} & \\cdots & x_{783, n_{samples}} \\end{bmatrix}$$"
   ]
  },
  {
   "cell_type": "markdown",
   "metadata": {},
   "source": [
    "### 1st Hidden Layer\n",
    "Dim: 28 x samples, each column is a sample\n",
    "$$ A^{(1)} = \\begin{bmatrix} x_{0, 0} & x_{0, 1} & \\cdots & x_{0, n_{samples}} \\\\ x_{1, 0} & x_{1, 1} & \\cdots & x_{1, n_{samples}} \\\\ \\vdots & \\vdots & \\ddots & \\vdots \\\\ x_{27, 0} & x_{27, 1} & \\cdots & x_{27, n_{samples}} \\end{bmatrix}$$"
   ]
  },
  {
   "cell_type": "markdown",
   "metadata": {},
   "source": [
    "### Weights and Biases\n",
    "\n",
    "$$A^{(1)} = W^{(1)}A^{(0)} + b^{(1)}$$\n",
    "\n",
    "$\\sigma $ is sigmoid function<br>\n",
    "W is a matrix of dim 28 x 784 <br>\n",
    "b is a matrix of dim 28 x 1"
   ]
  },
  {
   "cell_type": "markdown",
   "metadata": {},
   "source": [
    "### 2nd Hidden Layer\n",
    "Dim: 28 x samples\n",
    "$$ A^{(2)} = \\begin{bmatrix} x_{0, 0} & x_{0, 1} & \\cdots & x_{0, n_{samples}} \\\\ x_{1, 0} & x_{1, 1} & \\cdots & x_{1, n_{samples}} \\\\ \\vdots & \\vdots & \\ddots & \\vdots \\\\ x_{27, 0} & x_{27, 1} & \\cdots & x_{27, n_{samples}} \\end{bmatrix}$$\n",
    "$$A^{(2)} = \\sigma(W^{(2)}A^{(1)} + b^{(2)})$$"
   ]
  },
  {
   "cell_type": "markdown",
   "metadata": {},
   "source": [
    "### Output Layer\n",
    "Y is matrix of dim 10 x samples representing digits from 0 to 9\n",
    "$$Y = \\begin{bmatrix} y_{0}\\\\ y_{1}\\\\ \\vdots \\\\ y_{9}\\end{bmatrix}$$\n",
    "$$Y = \\sigma(W^{(y)}A^{(2)} + b^{(y)}) $$"
   ]
  },
  {
   "cell_type": "markdown",
   "metadata": {},
   "source": [
    "#### Normalize Data between 0 and 1"
   ]
  },
  {
   "cell_type": "code",
   "execution_count": 61,
   "metadata": {},
   "outputs": [
    {
     "data": {
      "text/plain": [
       "array([[0.        , 0.        , 0.        , ..., 0.99607843, 0.79215686,\n",
       "        0.        ],\n",
       "       [0.        , 0.        , 0.        , ..., 0.        , 0.        ,\n",
       "        0.        ],\n",
       "       [0.        , 0.        , 0.        , ..., 0.        , 0.23921569,\n",
       "        0.43307087],\n",
       "       ...,\n",
       "       [0.        , 0.        , 0.        , ..., 0.        , 0.        ,\n",
       "        0.        ],\n",
       "       [0.        , 0.        , 0.        , ..., 0.        , 0.        ,\n",
       "        0.        ],\n",
       "       [0.        , 0.        , 0.        , ..., 0.        , 0.        ,\n",
       "        0.        ]])"
      ]
     },
     "execution_count": 61,
     "metadata": {},
     "output_type": "execute_result"
    }
   ],
   "source": [
    "from sklearn.preprocessing import MinMaxScaler\n",
    "\n",
    "scaler = MinMaxScaler()\n",
    "A0 = scaler.fit_transform(X_train)\n",
    "A0 = A0.reshape(784 , A0.shape[0])\n",
    "A0"
   ]
  },
  {
   "cell_type": "markdown",
   "metadata": {},
   "source": [
    "#### Initialize random weights"
   ]
  },
  {
   "cell_type": "code",
   "execution_count": 33,
   "metadata": {},
   "outputs": [],
   "source": [
    "W1 = np.random.randn(28, 784)\n",
    "b1 = np.random.rand(28, 1)\n",
    "W2 = np.random.randn(28, 28)\n",
    "b2 = np.random.rand(28, 1)\n",
    "Wy = np.random.randn(10, 28)\n",
    "by = np.random.rand(10, 1)"
   ]
  },
  {
   "cell_type": "markdown",
   "metadata": {},
   "source": [
    "#### Sigmoid Function for Activation"
   ]
  },
  {
   "cell_type": "code",
   "execution_count": 54,
   "metadata": {},
   "outputs": [],
   "source": [
    "import math\n",
    "\n",
    "def sigmoid(x):\n",
    "    return np.exp(x)/(1 + np.exp(x))"
   ]
  },
  {
   "cell_type": "markdown",
   "metadata": {},
   "source": [
    "### Forward Propagation"
   ]
  },
  {
   "cell_type": "code",
   "execution_count": null,
   "metadata": {},
   "outputs": [],
   "source": [
    "A1 = W1.dot(A0) + b1\n",
    "Z2 = W2.dot(A1) + b2\n",
    "A2 = sigmoid(Z2)\n",
    "Zy = Wy.dot(A2) + by\n",
    "Y = sigmoid(Zy)"
   ]
  },
  {
   "cell_type": "code",
   "execution_count": 52,
   "metadata": {},
   "outputs": [
    {
     "data": {
      "text/plain": [
       "(10, 100)"
      ]
     },
     "execution_count": 52,
     "metadata": {},
     "output_type": "execute_result"
    }
   ],
   "source": [
    "Y.shape"
   ]
  },
  {
   "cell_type": "markdown",
   "metadata": {},
   "source": [
    "### MSE Loss\n",
    "The squared error cost function is:\n",
    "\n",
    "  $$C = \\frac{1}{2m} \\sum_{i=1}^m \\sum_{j=1}^n (Y_{\\text{pred}} - Y_{\\text{true}} )^2$$\n",
    "  where $ m $ is the number of training examples, $ Y_{\\text{pred}} = Y $, and $ Y_{\\text{true}} $ is the ground truth."
   ]
  },
  {
   "cell_type": "code",
   "execution_count": 91,
   "metadata": {},
   "outputs": [
    {
     "data": {
      "text/plain": [
       "np.float64(2.1293917347677165)"
      ]
     },
     "execution_count": 91,
     "metadata": {},
     "output_type": "execute_result"
    }
   ],
   "source": [
    "n = Y.shape[0]\n",
    "m = Y.shape[1]\n",
    "cost = np.sum(np.square(y_train_hot - Y)) / (2 * m)\n",
    "cost"
   ]
  },
  {
   "cell_type": "markdown",
   "metadata": {},
   "source": [
    "### Backpropagation\n",
    "Backpropagation is simply calculating the gradient $ \\frac{\\partial C}{\\partial p}$ where C is the cost function and p is parameter like W or b for each parameter and then using this gradient to perform gradient descent to find optimal parameter values that minimize C. <br><br> $ \\frac{\\partial C}{\\partial p}$ represents how much change in parameter p affects cost C\n",
    "<br><br>"
   ]
  },
  {
   "cell_type": "markdown",
   "metadata": {},
   "source": [
    "For the output layer $Y = \\sigma(W^{(y)}A^{(2)} + b^{(y)}) $ <br>\n",
    "$$ \\frac{\\partial C}{\\partial W^{(y)}} = \\frac{\\partial C}{\\partial Y} \\cdot \\frac{\\partial Y}{\\partial Z^{(y)}} \\cdot \\frac{\\partial Z^{(y)}}{\\partial W^{(y)}}  = -\\frac{1}{m} \\big( (Y - Y_{\\text{true}}) \\cdot Y \\cdot (1 - Y) \\big) A^{(2)}$$\n",
    "$$ \\frac{\\partial C}{\\partial b^{(y)}} = \\frac{\\partial C}{\\partial Y} \\cdot \\frac{\\partial Y}{\\partial Z^{(y)}} \\cdot \\frac{\\partial Z^{(y)}}{\\partial b^{(y)}} = -\\frac{1}{m} \\big( (Y - Y_{\\text{true}}) \\cdot Y \\cdot (1 - Y) \\big)$$"
   ]
  },
  {
   "cell_type": "code",
   "execution_count": 92,
   "metadata": {},
   "outputs": [],
   "source": [
    "dC_dZy = - ((Y - y_train_hot) * Y * (1-Y))/m\n",
    "dZy_dWy = A2.T # Transpose for matching dimension\n",
    "\n",
    "dC_dWy = np.dot(dC_dZy, dZy_dWy)\n",
    "dC_dby = dC_dZy"
   ]
  },
  {
   "cell_type": "markdown",
   "metadata": {},
   "source": [
    "For 2nd Hidden Layer $A^{(2)} = \\sigma(W^{(2)}A^{(1)} + b^{(2)})$\n",
    "$$ \\frac{\\partial C}{\\partial W^{(2)}} = \\frac{\\partial C}{\\partial Y} \\cdot \\frac{\\partial Y}{\\partial Z^{(y)}} \\cdot \\frac{\\partial Z^{(y)}}{\\partial A^{(2)}} \\cdot \\frac{\\partial A^{(2)}}{\\partial Z^{(2)}} \\cdot \\frac{\\partial Z^{(2)}}{\\partial W^{(2)}} = \\frac{1}{m} \\big( (Y - Y_{\\text{true}}) \\cdot Y \\cdot (1 - Y) \\cdot W^{(y)} \\cdot A^{(2)}(1 - A^{(2)}) \\cdot A^{(1)} \\big)$$\n",
    "\n",
    "$$ \\frac{\\partial C}{\\partial b^{(2)}} = \\frac{\\partial C}{\\partial Y} \\cdot \\frac{\\partial Y}{\\partial Z^{(y)}} \\cdot \\frac{\\partial Z^{(y)}}{\\partial A^{(2)}} \\cdot \\frac{\\partial A^{(2)}}{\\partial Z^{(2)}} \\cdot \\frac{\\partial Z^{(2)}}{\\partial b^{(2)}} = \\frac{1}{m} \\big( (Y - Y_{\\text{true}}) \\cdot Y \\cdot (1 - Y) \\cdot W^{(y)} \\cdot A^{(2)}(1 - A^{(2)}) \\big)$$\n"
   ]
  },
  {
   "cell_type": "code",
   "execution_count": 101,
   "metadata": {},
   "outputs": [],
   "source": [
    "dC_dZ2 = np.dot(Wy.T, dC_dZy) * A2 * (1 - A2) \n",
    "\n",
    "dC_dW2 = np.dot(dC_dZ2, A1.T)\n",
    "dC_db2 = dC_dZ2"
   ]
  },
  {
   "cell_type": "markdown",
   "metadata": {},
   "source": [
    "For 1st Hidden Layer $A^{(1)} = W^{(1)}A^{(0)} + b^{(1)}$\n",
    "$$ \\frac{\\partial C}{\\partial W^{(1)}} = \\frac{\\partial C}{\\partial Y} \\cdot \\frac{\\partial Y}{\\partial Z^{(y)}} \\cdot \\frac{\\partial Z^{(y)}}{\\partial A^{(2)}} \\cdot \\frac{\\partial A^{(2)}}{\\partial Z^{(2)}} \\cdot \\frac{\\partial Z^{(2)}}{\\partial A^{(1)}} \\cdot \\frac{\\partial A^{(1)}}{\\partial W^{(1)}} = \\frac{1}{m} \\big( (Y - Y_{\\text{true}}) \\cdot Y \\cdot (1 - Y) \\cdot W^{(y)} \\cdot A^{(2)}(1 - A^{(2)}) \\cdot W^{(2)} \\cdot A^{(0)} \\big)$$\n",
    "\n",
    "$$ \\frac{\\partial C}{\\partial b^{(1)}} = \\frac{\\partial C}{\\partial Y} \\cdot \\frac{\\partial Y}{\\partial Z^{(y)}} \\cdot \\frac{\\partial Z^{(y)}}{\\partial A^{(2)}} \\cdot \\frac{\\partial A^{(2)}}{\\partial Z^{(2)}} \\cdot \\frac{\\partial Z^{(2)}}{\\partial A^{(1)}} \\cdot \\frac{\\partial A^{(1)}}{\\partial W^{(1)}} = \\frac{1}{m} \\big( (Y - Y_{\\text{true}}) \\cdot Y \\cdot (1 - Y) \\cdot W^{(y)} \\cdot A^{(2)}(1 - A^{(2)}) \\cdot W^{(2)} \\big)$$"
   ]
  },
  {
   "cell_type": "code",
   "execution_count": 105,
   "metadata": {},
   "outputs": [],
   "source": [
    "dC_dZ1 = np.dot(W2.T, dC_dZ2) * A1 * (1 - A1)  \n",
    "\n",
    "dC_dW1 = np.dot(dC_dZ1, A0.T)\n",
    "dC_db1 = dC_dZ1                  "
   ]
  },
  {
   "cell_type": "code",
   "execution_count": null,
   "metadata": {},
   "outputs": [],
   "source": []
  }
 ],
 "metadata": {
  "kernelspec": {
   "display_name": ".venv",
   "language": "python",
   "name": "python3"
  },
  "language_info": {
   "codemirror_mode": {
    "name": "ipython",
    "version": 3
   },
   "file_extension": ".py",
   "mimetype": "text/x-python",
   "name": "python",
   "nbconvert_exporter": "python",
   "pygments_lexer": "ipython3",
   "version": "3.10.4"
  }
 },
 "nbformat": 4,
 "nbformat_minor": 2
}
