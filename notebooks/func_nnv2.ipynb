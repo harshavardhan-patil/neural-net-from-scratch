{
 "cells": [
  {
   "cell_type": "code",
   "execution_count": 75,
   "metadata": {},
   "outputs": [
    {
     "name": "stdout",
     "output_type": "stream",
     "text": [
      "['C:\\\\Program Files\\\\Python310\\\\python310.zip', 'C:\\\\Program Files\\\\Python310\\\\DLLs', 'C:\\\\Program Files\\\\Python310\\\\lib', 'C:\\\\Program Files\\\\Python310', 'g:\\\\Work\\\\DS\\\\neural-net-from-scratch\\\\.venv', '', 'g:\\\\Work\\\\DS\\\\neural-net-from-scratch\\\\.venv\\\\lib\\\\site-packages', 'g:\\\\Work\\\\DS\\\\neural-net-from-scratch\\\\.venv\\\\lib\\\\site-packages\\\\win32', 'g:\\\\Work\\\\DS\\\\neural-net-from-scratch\\\\.venv\\\\lib\\\\site-packages\\\\win32\\\\lib', 'g:\\\\Work\\\\DS\\\\neural-net-from-scratch\\\\.venv\\\\lib\\\\site-packages\\\\Pythonwin', 'G:\\\\Work\\\\DS\\\\neural-net-from-scratch', 'G:\\\\Work\\\\DS\\\\neural-net-from-scratch', 'G:\\\\Work\\\\DS\\\\neural-net-from-scratch', 'G:\\\\Work\\\\DS\\\\neural-net-from-scratch', 'G:\\\\Work\\\\DS\\\\neural-net-from-scratch']\n"
     ]
    }
   ],
   "source": [
    "import sys\n",
    "from pathlib import Path\n",
    "\n",
    "# Add the project root to sys.path\n",
    "project_root = Path().resolve().parent  # Adjust as needed to point to the root folder\n",
    "sys.path.append(str(project_root))\n",
    "\n",
    "print(sys.path)  # Check if the path is added\n"
   ]
  },
  {
   "cell_type": "code",
   "execution_count": 76,
   "metadata": {},
   "outputs": [
    {
     "name": "stdout",
     "output_type": "stream",
     "text": [
      "(42000, 785)\n"
     ]
    }
   ],
   "source": [
    "#\n",
    "# Verify Reading Dataset via MnistDataloader class\n",
    "#\n",
    "%matplotlib inline\n",
    "import random\n",
    "import matplotlib.pyplot as plt\n",
    "from os.path  import join\n",
    "import numpy as np\n",
    "import pandas as pd\n",
    "from sklearn.model_selection import train_test_split\n",
    "\n",
    "#\n",
    "# Set file paths based on added MNIST Datasets\n",
    "#\n",
    "input_path = '../data'\n",
    "data = np.array(pd.read_csv(join(input_path, 'train.csv')))\n",
    "print(data.shape)\n",
    "\n",
    "train_set, dev_set = train_test_split(data, test_size=0.2, random_state=42)\n",
    "X_train = train_set[:1000, 1:data.shape[1]]\n",
    "y_train = train_set[:1000, 0:1]\n",
    "X_dev = dev_set[:, 1:data.shape[1]]\n",
    "y_dev = dev_set[:, 0:1]\n",
    "\n",
    "#\n",
    "# Helper function to show a list of images with their relating titles\n",
    "#\n",
    "def show_images(images, title_texts):\n",
    "    cols = 5\n",
    "    rows = int(len(images)/cols) + 1\n",
    "    plt.figure(figsize=(30,20))\n",
    "    index = 1    \n",
    "    for x in zip(images, title_texts):        \n",
    "        image = x[0]        \n",
    "        title_text = x[1]\n",
    "        plt.subplot(rows, cols, index)        \n",
    "        plt.imshow(image, cmap=plt.cm.gray)\n",
    "        if (title_text != ''):\n",
    "            plt.title(title_text, fontsize = 15);        \n",
    "        index += 1\n",
    "\n"
   ]
  },
  {
   "cell_type": "code",
   "execution_count": 77,
   "metadata": {},
   "outputs": [
    {
     "data": {
      "image/png": "[encoded data removed]",
      "text/plain": [
       "<Figure size 3000x2000 with 1 Axes>"
      ]
     },
     "metadata": {},
     "output_type": "display_data"
    }
   ],
   "source": [
    "show_images([X_train[7].reshape(28, 28)], [y_train[7]])"
   ]
  },
  {
   "cell_type": "code",
   "execution_count": 92,
   "metadata": {},
   "outputs": [],
   "source": [
    "from sklearn.preprocessing import OneHotEncoder, MinMaxScaler, StandardScaler\n",
    "from sklearn.metrics import accuracy_score\n",
    "\n",
    "digit_encoder = OneHotEncoder()\n",
    "Y_true = digit_encoder.fit_transform(y_train).toarray().T\n",
    "\n",
    "scaler = MinMaxScaler()\n",
    "A0 = scaler.fit_transform(X_train)\n",
    "A0 = A0.T"
   ]
  },
  {
   "cell_type": "markdown",
   "metadata": {},
   "source": [
    "### Neural Network"
   ]
  },
  {
   "cell_type": "code",
   "execution_count": 107,
   "metadata": {},
   "outputs": [],
   "source": [
    "def sigmoid(x):\n",
    "    return np.exp(x)/(1 + np.exp(x))\n",
    "\n",
    "def relu(X):\n",
    "     return np.maximum(0 ,X)\n",
    "\n",
    "def leaky_relu(X, alpha=0.01):\n",
    "    return np.where(X > 0, X, alpha * X)\n",
    "\n",
    "# Derivative for backpropagation\n",
    "def derivative_leaky_relu(X, alpha=0.01):\n",
    "    return np.where(X > 0, 1, alpha)\n",
    "\n",
    "\n",
    "def softmax(X):\n",
    "    # Subtract the max value for numerical stability\n",
    "    X_stable = X - np.max(X, axis=0, keepdims=True)\n",
    "    exp_X = np.exp(X_stable)\n",
    "    return exp_X / np.sum(exp_X, axis=0, keepdims=True)\n",
    "\n",
    "\n",
    "def init_params():\n",
    "    W1 = np.random.randn(28, 784)\n",
    "    b1 = np.random.rand(28, 1)\n",
    "    W2 = np.random.randn(28, 28)\n",
    "    b2 = np.random.rand(28, 1)\n",
    "    Wy = np.random.randn(10, 28)\n",
    "    return W1, b1, W2, b2, Wy\n",
    "\n",
    "def forward_prop(A0, W1,b1,W2,b2,Wy):\n",
    "    Z1 = W1.dot(A0) + b1\n",
    "    A1 = leaky_relu(Z1)\n",
    "    Z2 = W2.dot(A1) + b2\n",
    "    A2 = leaky_relu(Z2)\n",
    "    Zy = Wy.dot(A2)\n",
    "    Y = softmax(Zy)\n",
    "    return Y, A2, Z2, A1, Z1\n",
    "\n",
    "def back_prop(Y, Y_true, Wy, A2, Z2, W2, A1, Z1, A0, m):\n",
    "    dC_dZy = Y - Y_true\n",
    "    dZy_dWy = A2.T # Transpose for matching dimension\n",
    "    #Ouput Layer\n",
    "    dC_dWy = np.dot(dC_dZy, dZy_dWy) / m\n",
    "\n",
    "    dC_dZ2 = np.dot(Wy.T, dC_dZy) *  derivative_leaky_relu(Z2)\n",
    "    #2nd Hidden Layer\n",
    "    dC_dW2 = np.dot(dC_dZ2, A1.T) / m\n",
    "    dC_db2 = np.sum(dC_dZ2, axis=1, keepdims=True) / m\n",
    "\n",
    "    dC_dZ1 = np.dot(W2.T, dC_dZ2) * derivative_leaky_relu(Z1)\n",
    "    #1st Hidden Layer\n",
    "    dC_dW1 = np.dot(dC_dZ1, A0.T) / m\n",
    "    dC_db1 = np.sum(dC_dZ1, axis=1, keepdims=True) / m \n",
    "\n",
    "    return dC_dW1, dC_db1, dC_dW2, dC_db2, dC_dWy\n",
    "\n",
    "def gradient_descent(alpha, W1, b1, W2, b2, Wy, dC_dW1, dC_db1, dC_dW2, dC_db2, dC_dWy):\n",
    "    W1 = W1 - alpha * dC_dW1\n",
    "    b1 = b1 - alpha * dC_db1\n",
    "    W2 = W2 - alpha * dC_dW2\n",
    "    b2 = b2 - alpha * dC_db2\n",
    "    Wy = Wy - alpha * dC_dWy\n",
    "    return W1, b1, W2, b2, Wy\n",
    "\n",
    "def predict(test_data, W1, b1, W2, b2, Wy):\n",
    "        Y_pred, A2, Z2, A1, Z1 = forward_prop(test_data, W1, b1, W2, b2, Wy)\n",
    "        return Y_pred\n",
    "\n",
    "def one_hot_to_digit(predictions):\n",
    "    # Use argmax to find the index of the maximum value in each column (sample)\n",
    "    digit_labels = np.argmax(predictions, axis=0)\n",
    "    return digit_labels"
   ]
  },
  {
   "cell_type": "code",
   "execution_count": 108,
   "metadata": {},
   "outputs": [
    {
     "name": "stdout",
     "output_type": "stream",
     "text": [
      "Percentage of dead neurons in A1: 0.00%\n",
      "Accuracy for 0 iteration: 13.200000000000001%\n",
      "Percentage of dead neurons in A1: 0.00%\n",
      "Accuracy for 1000 iteration: 81.2%\n",
      "Percentage of dead neurons in A1: 0.00%\n",
      "Accuracy for 2000 iteration: 89.5%\n",
      "Percentage of dead neurons in A1: 0.00%\n",
      "Accuracy for 3000 iteration: 93.10000000000001%\n",
      "Percentage of dead neurons in A1: 0.00%\n",
      "Accuracy for 4000 iteration: 95.0%\n",
      "Percentage of dead neurons in A1: 0.00%\n",
      "Accuracy for 5000 iteration: 96.5%\n",
      "Percentage of dead neurons in A1: 0.00%\n",
      "Accuracy for 6000 iteration: 97.39999999999999%\n",
      "Percentage of dead neurons in A1: 0.00%\n",
      "Accuracy for 7000 iteration: 98.5%\n",
      "Percentage of dead neurons in A1: 0.00%\n",
      "Accuracy for 8000 iteration: 98.9%\n",
      "Percentage of dead neurons in A1: 0.00%\n",
      "Accuracy for 9000 iteration: 99.4%\n"
     ]
    }
   ],
   "source": [
    "n = Y_true.shape[0]\n",
    "m = Y_true.shape[1]\n",
    "W1,b1,W2,b2,Wy = init_params()\n",
    "alpha = 0.1 #learning rate\n",
    "\n",
    "for iteration in range(10000):\n",
    "    Y, A2, Z2, A1, Z1 = forward_prop(A0, W1, b1, W2, b2, Wy)\n",
    "\n",
    "    dC_dW1, dC_db1, dC_dW2, dC_db2, dC_dWy = back_prop(Y, Y_true, Wy, A2, Z2, W2, A1, Z1, A0, m)\n",
    "\n",
    "    W1, b1, W2, b2, Wy = gradient_descent(alpha, W1, b1, W2, b2, Wy, dC_dW1, dC_db1, dC_dW2, dC_db2, dC_dWy)\n",
    "\n",
    "    if iteration % 1000 == 0:\n",
    "        dead_neurons = np.mean(A1 == 0) * 100\n",
    "        print(f\"Percentage of dead neurons in A1: {dead_neurons:.2f}%\")\n",
    "\n",
    "        Y_pred = predict(A0, W1, b1, W2, b2, Wy)\n",
    "        preds = one_hot_to_digit(Y_pred)\n",
    "        print(f\"Accuracy for {iteration} iteration: {accuracy_score(y_train, preds) * 100}%\")\n"
   ]
  },
  {
   "cell_type": "code",
   "execution_count": 109,
   "metadata": {},
   "outputs": [
    {
     "name": "stdout",
     "output_type": "stream",
     "text": [
      "Accuracy: 73.88095238095238%\n"
     ]
    }
   ],
   "source": [
    "x_dev_scaled = scaler.transform(X_dev)\n",
    "x_dev_scaled = x_dev_scaled.T\n",
    "Y_pred = predict(x_dev_scaled, W1, b1, W2, b2, Wy)\n",
    "Y_pred = one_hot_to_digit(Y_pred)\n",
    "\n",
    "print(f\"Accuracy: {accuracy_score(y_dev, Y_pred) * 100}%\")"
   ]
  },
  {
   "cell_type": "code",
   "execution_count": 111,
   "metadata": {},
   "outputs": [
    {
     "data": {
      "image/png": "[encoded data removed]",
      "text/plain": [
       "<Figure size 3000x2000 with 1 Axes>"
      ]
     },
     "metadata": {},
     "output_type": "display_data"
    }
   ],
   "source": [
    "show_images([X_dev[8].reshape(28, 28)], [Y_pred[8]])"
   ]
  },
  {
   "cell_type": "code",
   "execution_count": null,
   "metadata": {},
   "outputs": [],
   "source": []
  }
 ],
 "metadata": {
  "kernelspec": {
   "display_name": ".venv",
   "language": "python",
   "name": "python3"
  },
  "language_info": {
   "codemirror_mode": {
    "name": "ipython",
    "version": 3
   },
   "file_extension": ".py",
   "mimetype": "text/x-python",
   "name": "python",
   "nbconvert_exporter": "python",
   "pygments_lexer": "ipython3",
   "version": "3.10.4"
  }
 },
 "nbformat": 4,
 "nbformat_minor": 2
}
