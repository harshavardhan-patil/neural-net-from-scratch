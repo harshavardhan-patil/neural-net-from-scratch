{
 "cells": [
  {
   "cell_type": "code",
   "execution_count": 63,
   "metadata": {},
   "outputs": [
    {
     "name": "stdout",
     "output_type": "stream",
     "text": [
      "['C:\\\\Program Files\\\\Python310\\\\python310.zip', 'C:\\\\Program Files\\\\Python310\\\\DLLs', 'C:\\\\Program Files\\\\Python310\\\\lib', 'C:\\\\Program Files\\\\Python310', 'g:\\\\Work\\\\DS\\\\neural-net-from-scratch\\\\.venv', '', 'g:\\\\Work\\\\DS\\\\neural-net-from-scratch\\\\.venv\\\\lib\\\\site-packages', 'g:\\\\Work\\\\DS\\\\neural-net-from-scratch\\\\.venv\\\\lib\\\\site-packages\\\\win32', 'g:\\\\Work\\\\DS\\\\neural-net-from-scratch\\\\.venv\\\\lib\\\\site-packages\\\\win32\\\\lib', 'g:\\\\Work\\\\DS\\\\neural-net-from-scratch\\\\.venv\\\\lib\\\\site-packages\\\\Pythonwin', 'G:\\\\Work\\\\DS\\\\neural-net-from-scratch', 'G:\\\\Work\\\\DS\\\\neural-net-from-scratch']\n"
     ]
    }
   ],
   "source": [
    "import sys\n",
    "from pathlib import Path\n",
    "\n",
    "# Add the project root to sys.path\n",
    "project_root = Path().resolve().parent  # Adjust as needed to point to the root folder\n",
    "sys.path.append(str(project_root))\n",
    "\n",
    "print(sys.path)  # Check if the path is added\n"
   ]
  },
  {
   "cell_type": "code",
   "execution_count": 64,
   "metadata": {},
   "outputs": [
    {
     "name": "stdout",
     "output_type": "stream",
     "text": [
      "(42000, 785)\n"
     ]
    }
   ],
   "source": [
    "#\n",
    "# Verify Reading Dataset via MnistDataloader class\n",
    "#\n",
    "%matplotlib inline\n",
    "import random\n",
    "import matplotlib.pyplot as plt\n",
    "from os.path  import join\n",
    "import numpy as np\n",
    "import pandas as pd\n",
    "from sklearn.model_selection import train_test_split\n",
    "\n",
    "#\n",
    "# Set file paths based on added MNIST Datasets\n",
    "#\n",
    "input_path = '../data'\n",
    "data = np.array(pd.read_csv(join(input_path, 'train.csv')))\n",
    "print(data.shape)\n",
    "\n",
    "train_set, dev_set = train_test_split(data, test_size=0.2, random_state=42)\n",
    "X_train = train_set[:1000, 1:data.shape[1]]\n",
    "y_train = train_set[:1000, 0:1]\n",
    "X_dev = dev_set[:100, 1:data.shape[1]]\n",
    "y_dev = dev_set[:100, 0:1]\n",
    "\n",
    "#\n",
    "# Helper function to show a list of images with their relating titles\n",
    "#\n",
    "def show_images(images, title_texts):\n",
    "    cols = 5\n",
    "    rows = int(len(images)/cols) + 1\n",
    "    plt.figure(figsize=(30,20))\n",
    "    index = 1    \n",
    "    for x in zip(images, title_texts):        \n",
    "        image = x[0]        \n",
    "        title_text = x[1]\n",
    "        plt.subplot(rows, cols, index)        \n",
    "        plt.imshow(image, cmap=plt.cm.gray)\n",
    "        if (title_text != ''):\n",
    "            plt.title(title_text, fontsize = 15);        \n",
    "        index += 1\n",
    "\n"
   ]
  },
  {
   "cell_type": "code",
   "execution_count": 65,
   "metadata": {},
   "outputs": [
    {
     "data": {
      "image/png": "[encoded data removed]",
      "text/plain": [
       "<Figure size 3000x2000 with 1 Axes>"
      ]
     },
     "metadata": {},
     "output_type": "display_data"
    }
   ],
   "source": [
    "show_images([X_train[1].reshape(28, 28)], [y_train[1]])"
   ]
  },
  {
   "cell_type": "code",
   "execution_count": 66,
   "metadata": {},
   "outputs": [
    {
     "data": {
      "text/plain": [
       "(10, 1000)"
      ]
     },
     "execution_count": 66,
     "metadata": {},
     "output_type": "execute_result"
    }
   ],
   "source": [
    "from sklearn.preprocessing import OneHotEncoder\n",
    "\n",
    "digit_encoder = OneHotEncoder()\n",
    "Y_true = digit_encoder.fit_transform(y_train).toarray().T\n",
    "Y_true.shape"
   ]
  },
  {
   "cell_type": "markdown",
   "metadata": {},
   "source": [
    "### Neural Network"
   ]
  },
  {
   "cell_type": "code",
   "execution_count": 67,
   "metadata": {},
   "outputs": [],
   "source": [
    "def sigmoid(x):\n",
    "    return np.exp(x)/(1 + np.exp(x))\n",
    "\n",
    "def init_params():\n",
    "    W1 = np.random.randn(28, 784)\n",
    "    b1 = np.random.rand(28, 1)\n",
    "    W2 = np.random.randn(28, 28)\n",
    "    b2 = np.random.rand(28, 1)\n",
    "    Wy = np.random.randn(10, 28)\n",
    "    by = np.random.rand(10, 1)\n",
    "    return W1, b1, W2, b2, Wy, by\n",
    "\n",
    "def forward_prop(A0, W1,b1,W2,b2,Wy,by):\n",
    "    A1 = W1.dot(A0) + b1\n",
    "    Z2 = W2.dot(A1) + b2\n",
    "    A2 = sigmoid(Z2)\n",
    "    Zy = Wy.dot(A2) + by\n",
    "    Y = sigmoid(Zy)\n",
    "    return Y, A2, A1\n",
    "\n",
    "def cost(Y, Y_true, m):\n",
    "    return np.sum(np.square(Y_true - Y)) / (2 * m)\n",
    "\n",
    "def back_prop(Y, Y_true, Wy, A2, W2, A1, A0, m):\n",
    "    dC_dZy = - ((Y - Y_true) * Y * (1-Y))/m\n",
    "    dZy_dWy = A2.T # Transpose for matching dimension\n",
    "    #Ouput Layer\n",
    "    dC_dWy = np.dot(dC_dZy, dZy_dWy)\n",
    "    dC_dby = np.sum(dC_dZy, axis=1, keepdims=True)\n",
    "\n",
    "    dC_dZ2 = np.dot(Wy.T, dC_dZy) * A2 * (1 - A2) \n",
    "    #2nd Hidden Layer\n",
    "    dC_dW2 = np.dot(dC_dZ2, A1.T)\n",
    "    dC_db2 = np.sum(dC_dZ2, axis=1, keepdims=True)\n",
    "\n",
    "    dC_dZ1 = np.dot(W2.T, dC_dZ2) * A1 * (1 - A1)  \n",
    "    #1st Hidden Layer\n",
    "    dC_dW1 = np.dot(dC_dZ1, A0.T)\n",
    "    dC_db1 = np.sum(dC_dZ1, axis=1, keepdims=True)   \n",
    "\n",
    "    return dC_dW1, dC_db1, dC_dW2, dC_db2, dC_dWy, dC_dby\n",
    "\n",
    "def gradient_descent(alpha, W1, b1, W2, b2, Wy, by, dC_dW1, dC_db1, dC_dW2, dC_db2, dC_dWy, dC_dby):\n",
    "    W1 = W1 - alpha * dC_dW1\n",
    "    b1 = b1 - alpha * dC_db1\n",
    "    W2 = W2 - alpha * dC_dW2\n",
    "    b2 = b2 - alpha * dC_db2\n",
    "    Wy = Wy - alpha * dC_dWy\n",
    "    by = by - alpha * dC_dby\n",
    "    return W1, b1, W2, b2, Wy, by\n",
    "\n",
    "def predict(test_data, W1, b1, W2, b2, Wy, by):\n",
    "        #expects scaled values\n",
    "        A1 = W1.dot(test_data) + b1\n",
    "        Z2 = W2.dot(A1) + b2\n",
    "        A2 = sigmoid(Z2)\n",
    "        Zy = Wy.dot(A2) + by\n",
    "        Y_pred = sigmoid(Zy)\n",
    "        return Y_pred\n"
   ]
  },
  {
   "cell_type": "code",
   "execution_count": 74,
   "metadata": {},
   "outputs": [
    {
     "data": {
      "text/plain": [
       "(784, 1000)"
      ]
     },
     "execution_count": 74,
     "metadata": {},
     "output_type": "execute_result"
    }
   ],
   "source": [
    "from sklearn.preprocessing import MinMaxScaler, StandardScaler\n",
    "\n",
    "scaler = MinMaxScaler()\n",
    "A0 = scaler.fit_transform(X_train)\n",
    "A0 = A0.reshape(784 , A0.shape[0])\n",
    "A0.shape"
   ]
  },
  {
   "cell_type": "code",
   "execution_count": 75,
   "metadata": {},
   "outputs": [
    {
     "name": "stdout",
     "output_type": "stream",
     "text": [
      "Cost for 0 iteration: 1.8632512301069206\n",
      "Cost for 10 iteration: 1.8531931088181535\n",
      "Cost for 20 iteration: 1.8430905859781952\n",
      "Cost for 30 iteration: 1.8349099403299483\n",
      "Cost for 40 iteration: 1.8270261516159212\n",
      "Cost for 50 iteration: 1.81776891280278\n",
      "Cost for 60 iteration: 1.8095692256002476\n",
      "Cost for 70 iteration: 1.8024817284945402\n",
      "Cost for 80 iteration: 1.794821438429825\n",
      "Cost for 90 iteration: 1.7869311923854996\n",
      "Cost for 100 iteration: 1.7780898597931412\n",
      "Cost for 110 iteration: 1.7690912800120124\n",
      "Cost for 120 iteration: 1.7595509505208338\n",
      "Cost for 130 iteration: 1.7510366258258816\n",
      "Cost for 140 iteration: 1.7438055385247986\n",
      "Cost for 150 iteration: 1.7369648238726414\n",
      "Cost for 160 iteration: 1.7286219678709958\n",
      "Cost for 170 iteration: 1.7210528453515028\n",
      "Cost for 180 iteration: 1.7146909483953794\n",
      "Cost for 190 iteration: 1.7089350025573757\n",
      "Cost for 200 iteration: 1.7033297555332343\n",
      "Cost for 210 iteration: 1.6976538021669274\n",
      "Cost for 220 iteration: 1.6927304948199058\n",
      "Cost for 230 iteration: 1.688388176938348\n",
      "Cost for 240 iteration: 1.6843542293311127\n",
      "Cost for 250 iteration: 1.6808726191680239\n",
      "Cost for 260 iteration: 1.677352879361532\n",
      "Cost for 270 iteration: 1.673275221768723\n",
      "Cost for 280 iteration: 1.668088901291688\n",
      "Cost for 290 iteration: 1.66199027998562\n",
      "Cost for 300 iteration: 1.6567508192305818\n",
      "Cost for 310 iteration: 1.6527390121523289\n",
      "Cost for 320 iteration: 1.6493437210905972\n",
      "Cost for 330 iteration: 1.6456378845547739\n",
      "Cost for 340 iteration: 1.6408227091657341\n",
      "Cost for 350 iteration: 1.6352429606397525\n",
      "Cost for 360 iteration: 1.629825491773173\n",
      "Cost for 370 iteration: 1.6244342736204584\n",
      "Cost for 380 iteration: 1.6190400118296095\n",
      "Cost for 390 iteration: 1.614279577574267\n",
      "Cost for 400 iteration: 1.6096100052969575\n",
      "Cost for 410 iteration: 1.605037685319892\n",
      "Cost for 420 iteration: 1.600527586185365\n",
      "Cost for 430 iteration: 1.596232922668663\n",
      "Cost for 440 iteration: 1.5925091709564902\n",
      "Cost for 450 iteration: 1.5889605022479945\n",
      "Cost for 460 iteration: 1.58538199443335\n",
      "Cost for 470 iteration: 1.5818266662418352\n",
      "Cost for 480 iteration: 1.578788918184937\n",
      "Cost for 490 iteration: 1.5761317023216375\n"
     ]
    }
   ],
   "source": [
    "n = Y_true.shape[0]\n",
    "m = Y_true.shape[1]\n",
    "W1,b1,W2,b2,Wy,by = init_params()\n",
    "alpha = 0.001 #learning rate\n",
    "\n",
    "for iteration in range(500):\n",
    "    Y, A2, A1 = forward_prop(A0, W1, b1, W2, b2, Wy, by)\n",
    "\n",
    "    dC_dW1, dC_db1, dC_dW2, dC_db2, dC_dWy, dC_dby = back_prop(Y, Y_true, Wy, A2, W2, A1, A0, m)\n",
    "\n",
    "    W1, b1, W2, b2, Wy, by = gradient_descent(alpha, W1, b1, W2, b2, Wy, by, dC_dW1, dC_db1, dC_dW2, dC_db2, dC_dWy, dC_dby)\n",
    "\n",
    "    if iteration % 10 == 0:\n",
    "         \n",
    "        print(f\"Cost for {iteration} iteration: {cost(Y, Y_true, m)}\")\n"
   ]
  },
  {
   "cell_type": "code",
   "execution_count": 76,
   "metadata": {},
   "outputs": [
    {
     "name": "stderr",
     "output_type": "stream",
     "text": [
      "C:\\Users\\Harshavardhan Patil\\AppData\\Local\\Temp\\ipykernel_3684\\51299927.py:2: RuntimeWarning: overflow encountered in exp\n",
      "  return np.exp(x)/(1 + np.exp(x))\n",
      "C:\\Users\\Harshavardhan Patil\\AppData\\Local\\Temp\\ipykernel_3684\\51299927.py:2: RuntimeWarning: invalid value encountered in divide\n",
      "  return np.exp(x)/(1 + np.exp(x))\n"
     ]
    },
    {
     "name": "stdout",
     "output_type": "stream",
     "text": [
      "0.06\n"
     ]
    },
    {
     "data": {
      "image/png": "[encoded data removed]",
      "text/plain": [
       "<Figure size 3000x2000 with 1 Axes>"
      ]
     },
     "metadata": {},
     "output_type": "display_data"
    }
   ],
   "source": [
    "from sklearn.metrics import accuracy_score\n",
    "\n",
    "def one_hot_to_digit(predictions):\n",
    "    # Use argmax to find the index of the maximum value in each column (sample)\n",
    "    digit_labels = np.argmax(predictions, axis=0)\n",
    "    return digit_labels\n",
    "\n",
    "test_data = scaler.transform(X_dev)\n",
    "test_data = test_data.reshape(784 , test_data.shape[0])\n",
    "Y_pred = predict(test_data, W1, b1, W2, b2, Wy, by)\n",
    "preds = one_hot_to_digit(Y_pred)\n",
    "\n",
    "print(accuracy_score(y_dev, preds))\n",
    "show_images([X_dev[8].reshape(28, 28)], [preds[8]])\n"
   ]
  }
 ],
 "metadata": {
  "kernelspec": {
   "display_name": ".venv",
   "language": "python",
   "name": "python3"
  },
  "language_info": {
   "codemirror_mode": {
    "name": "ipython",
    "version": 3
   },
   "file_extension": ".py",
   "mimetype": "text/x-python",
   "name": "python",
   "nbconvert_exporter": "python",
   "pygments_lexer": "ipython3",
   "version": "3.10.4"
  }
 },
 "nbformat": 4,
 "nbformat_minor": 2
}
